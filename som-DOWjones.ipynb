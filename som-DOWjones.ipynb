{
 "cells": [
  {
   "cell_type": "markdown",
   "metadata": {},
   "source": [
    "## Self Organizing Map (SOM) for clustering DOW Jones Stocks"
   ]
  },
  {
   "cell_type": "code",
   "execution_count": 1,
   "metadata": {},
   "outputs": [],
   "source": [
    "import numpy as np\n",
    "import pandas as pd\n",
    "from minisom import MiniSom\n",
    "import yfinance as yf \n",
    "import matplotlib.pyplot as plt"
   ]
  },
  {
   "cell_type": "code",
   "execution_count": 2,
   "metadata": {},
   "outputs": [],
   "source": [
    "# getting the stock data\n",
    "def stock_data(ticker,start_date,end_date) :\n",
    "    stock_data = yf.download(ticker,start=start_date,end=end_date)\n",
    "    return stock_data['Close'].values.reshape(-1,1)"
   ]
  },
  {
   "cell_type": "code",
   "execution_count": 3,
   "metadata": {},
   "outputs": [],
   "source": [
    "# normalizing the data \n",
    "def data_normalize(data):\n",
    "    return (data - np.mean(data))/np.std(data)    "
   ]
  },
  {
   "cell_type": "code",
   "execution_count": 4,
   "metadata": {},
   "outputs": [],
   "source": [
    "# function to train the Self Organizing Maps:\n",
    "def train_som(data,som_size,num_iterations) :\n",
    "    som = MiniSom(som_size[0],som_size[1],data.shape[1],sigma=0.3,learning_rate=0.5)\n",
    "    som.train_random(data, num_iterations)\n",
    "    return som"
   ]
  },
  {
   "cell_type": "code",
   "execution_count": 5,
   "metadata": {},
   "outputs": [],
   "source": [
    "# function to visualize the SOM clusters:\n",
    "def visualize_clusters(data, som, tickers):\n",
    "    plt.figure(figsize=(10, 8))\n",
    "    for i, stock in enumerate(data):\n",
    "        winner = som.winner(stock)\n",
    "        color_value = (stock[0] - np.min(data)) / (np.max(data) - np.min(data))  # Color based on normalized data\n",
    "        plt.scatter(winner[0] + np.random.rand(), winner[1] + np.random.rand(), marker='o', color=plt.cm.viridis(color_value))\n",
    "\n",
    "        # Check if the index is within the bounds of the tickers list\n",
    "        if i < len(tickers):\n",
    "            # Annotate each point with its corresponding ticker\n",
    "            plt.annotate(tickers[i], (winner[0], winner[1]), textcoords=\"offset points\", xytext=(0, 5), ha='center')\n",
    "\n",
    "    plt.title('DOW Jones Stock Clusters using SOM')\n",
    "    plt.show()"
   ]
  },
  {
   "cell_type": "code",
   "execution_count": 9,
   "metadata": {},
   "outputs": [],
   "source": [
    "def main():\n",
    "    dow_stocks = ['AAPL', 'MSFT', 'IBM', 'GOOGL', 'AMZN', 'JPM', 'GS', 'DIS', 'BA', 'CSCO']\n",
    "    \n",
    "    start_date = '2023-01-01'\n",
    "    end_date = '2024-01-01'\n",
    "    \n",
    "    # Fetching the historical data\n",
    "    stock_data = [stock_data(ticker,start_date,end_date) for ticker in dow_stocks]\n",
    "    \n",
    "    #Normalize the given data\n",
    "    normalized_data = np.concatenate([data_normalize(data) for data in stock_data],axis=1)\n",
    "    \n",
    "    # training the SOM\n",
    "    som_size = (5,5)\n",
    "    num_iterations = 500\n",
    "    som = train_som(normalized_data,som_size,num_iterations)\n",
    "    \n",
    "    # visualizing\n",
    "    visualize_clusters(normalized_data,som,dow_stocks)\n",
    "    "
   ]
  }
 ],
 "metadata": {
  "kernelspec": {
   "display_name": "Python 3",
   "language": "python",
   "name": "python3"
  },
  "language_info": {
   "codemirror_mode": {
    "name": "ipython",
    "version": 3
   },
   "file_extension": ".py",
   "mimetype": "text/x-python",
   "name": "python",
   "nbconvert_exporter": "python",
   "pygments_lexer": "ipython3",
   "version": "3.11.5"
  }
 },
 "nbformat": 4,
 "nbformat_minor": 2
}
